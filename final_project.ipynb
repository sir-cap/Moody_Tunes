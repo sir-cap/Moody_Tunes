{
 "cells": [
  {
   "cell_type": "code",
   "execution_count": 6,
   "id": "b7859aaf",
   "metadata": {},
   "outputs": [],
   "source": [
    "#importing libraries\n",
    "import pandas as pd\n",
    "import numpy as np\n",
    "import matplotlib.pyplot as plt\n",
    "import re\n",
    "import random\n",
    "import os #to interact with the operating system \n",
    "import spotipy\n",
    "from spotipy.oauth2 import SpotifyOAuth\n",
    "\n"
   ]
  },
  {
   "cell_type": "code",
   "execution_count": 22,
   "id": "c7f67ade",
   "metadata": {},
   "outputs": [],
   "source": [
    "#importing dataset for moods tracks\n",
    "songs_raw = pd.read_csv('songs_moods.csv', sep=';')\n"
   ]
  },
  {
   "cell_type": "code",
   "execution_count": 23,
   "id": "0e81f1a9",
   "metadata": {},
   "outputs": [
    {
     "data": {
      "text/html": [
       "<div>\n",
       "<style scoped>\n",
       "    .dataframe tbody tr th:only-of-type {\n",
       "        vertical-align: middle;\n",
       "    }\n",
       "\n",
       "    .dataframe tbody tr th {\n",
       "        vertical-align: top;\n",
       "    }\n",
       "\n",
       "    .dataframe thead th {\n",
       "        text-align: right;\n",
       "    }\n",
       "</style>\n",
       "<table border=\"1\" class=\"dataframe\">\n",
       "  <thead>\n",
       "    <tr style=\"text-align: right;\">\n",
       "      <th></th>\n",
       "      <th>Name</th>\n",
       "      <th>Artist</th>\n",
       "      <th>Mood</th>\n",
       "    </tr>\n",
       "  </thead>\n",
       "  <tbody>\n",
       "    <tr>\n",
       "      <th>0</th>\n",
       "      <td>Sick Thoughts</td>\n",
       "      <td>Lewis Blissett</td>\n",
       "      <td>Angry</td>\n",
       "    </tr>\n",
       "    <tr>\n",
       "      <th>1</th>\n",
       "      <td>Mo Bamba</td>\n",
       "      <td>Sheck Wes</td>\n",
       "      <td>Angry</td>\n",
       "    </tr>\n",
       "    <tr>\n",
       "      <th>2</th>\n",
       "      <td>MONTERO (Call Me By Your Name)</td>\n",
       "      <td>Lil Nas X</td>\n",
       "      <td>Angry</td>\n",
       "    </tr>\n",
       "    <tr>\n",
       "      <th>3</th>\n",
       "      <td>Foot Fungus</td>\n",
       "      <td>Ski Mask The Slump God</td>\n",
       "      <td>Angry</td>\n",
       "    </tr>\n",
       "    <tr>\n",
       "      <th>4</th>\n",
       "      <td>Shhh (Pew Pew) - Slowed + Reverb</td>\n",
       "      <td>Young Fanatic</td>\n",
       "      <td>Angry</td>\n",
       "    </tr>\n",
       "    <tr>\n",
       "      <th>...</th>\n",
       "      <td>...</td>\n",
       "      <td>...</td>\n",
       "      <td>...</td>\n",
       "    </tr>\n",
       "    <tr>\n",
       "      <th>485</th>\n",
       "      <td>enough for you</td>\n",
       "      <td>Olivia Rodrigo</td>\n",
       "      <td>Surprised</td>\n",
       "    </tr>\n",
       "    <tr>\n",
       "      <th>486</th>\n",
       "      <td>Botella Tras Botella</td>\n",
       "      <td>Gera MX</td>\n",
       "      <td>Surprised</td>\n",
       "    </tr>\n",
       "    <tr>\n",
       "      <th>487</th>\n",
       "      <td>EL MAKINON</td>\n",
       "      <td>KAROL G</td>\n",
       "      <td>Surprised</td>\n",
       "    </tr>\n",
       "    <tr>\n",
       "      <th>488</th>\n",
       "      <td>Lost Cause</td>\n",
       "      <td>Billie Eilish</td>\n",
       "      <td>Surprised</td>\n",
       "    </tr>\n",
       "    <tr>\n",
       "      <th>489</th>\n",
       "      <td>Miénteme</td>\n",
       "      <td>TINI</td>\n",
       "      <td>Surprised</td>\n",
       "    </tr>\n",
       "  </tbody>\n",
       "</table>\n",
       "<p>490 rows × 3 columns</p>\n",
       "</div>"
      ],
      "text/plain": [
       "                                 Name                  Artist       Mood\n",
       "0                       Sick Thoughts          Lewis Blissett      Angry\n",
       "1                            Mo Bamba               Sheck Wes      Angry\n",
       "2      MONTERO (Call Me By Your Name)               Lil Nas X      Angry\n",
       "3                         Foot Fungus  Ski Mask The Slump God      Angry\n",
       "4    Shhh (Pew Pew) - Slowed + Reverb           Young Fanatic      Angry\n",
       "..                                ...                     ...        ...\n",
       "485                    enough for you          Olivia Rodrigo  Surprised\n",
       "486              Botella Tras Botella                 Gera MX  Surprised\n",
       "487                        EL MAKINON                 KAROL G  Surprised\n",
       "488                        Lost Cause           Billie Eilish  Surprised\n",
       "489                          Miénteme                    TINI  Surprised\n",
       "\n",
       "[490 rows x 3 columns]"
      ]
     },
     "execution_count": 23,
     "metadata": {},
     "output_type": "execute_result"
    }
   ],
   "source": [
    "#checking how many moods\n",
    "songs_raw"
   ]
  },
  {
   "cell_type": "code",
   "execution_count": 24,
   "id": "51547b59",
   "metadata": {},
   "outputs": [
    {
     "data": {
      "text/plain": [
       "(490, 3)"
      ]
     },
     "execution_count": 24,
     "metadata": {},
     "output_type": "execute_result"
    }
   ],
   "source": [
    "#checking dataset size\n",
    "songs.shape"
   ]
  },
  {
   "cell_type": "code",
   "execution_count": 16,
   "id": "7ea20aa5",
   "metadata": {},
   "outputs": [
    {
     "data": {
      "text/plain": [
       "Disgusted    100\n",
       "Neutral      100\n",
       "Sad          100\n",
       "Happy         80\n",
       "Surprised     50\n",
       "Angry         30\n",
       "Fearful       30\n",
       "Name: Mood, dtype: int64"
      ]
     },
     "execution_count": 16,
     "metadata": {},
     "output_type": "execute_result"
    }
   ],
   "source": [
    "#checking song number per mood\n",
    "songs_raw['Mood'].value_counts()"
   ]
  },
  {
   "cell_type": "code",
   "execution_count": 17,
   "id": "45e5c636",
   "metadata": {},
   "outputs": [
    {
     "data": {
      "text/plain": [
       "Name      0\n",
       "Artist    0\n",
       "Mood      0\n",
       "dtype: int64"
      ]
     },
     "execution_count": 17,
     "metadata": {},
     "output_type": "execute_result"
    }
   ],
   "source": [
    "#checking for nan's\n",
    "songs_raw.isna().sum()"
   ]
  },
  {
   "cell_type": "code",
   "execution_count": 95,
   "id": "e8220c98",
   "metadata": {},
   "outputs": [
    {
     "ename": "",
     "evalue": "",
     "output_type": "error",
     "traceback": [
      "\u001b[1;31mThe Kernel crashed while executing code in the the current cell or a previous cell. Please review the code in the cell(s) to identify a possible cause of the failure. Click <a href='https://aka.ms/vscodeJupyterKernelCrash'>here</a> for more info. View Jupyter <a href='command:jupyter.viewOutput'>log</a> for further details."
     ]
    },
    {
     "ename": "",
     "evalue": "",
     "output_type": "error",
     "traceback": [
      "\u001b[1;31mCanceled future for execute_request message before replies were done"
     ]
    }
   ],
   "source": [
    "#importing libraries for face recognition\n",
    "import tensorflow as tf\n",
    "from keras.preprocessing.image import ImageDataGenerator\n",
    "from keras.layers import Dense,Input,Dropout,GlobalAveragePooling2D,Flatten,Conv2D,BatchNormalization,Activation,MaxPooling2D\n",
    "from keras.models import Model,Sequential\n",
    "from keras.optimizers import Adam,SGD,RMSprop\n",
    "from keras.callbacks import ModelCheckpoint, EarlyStopping, ReduceLROnPlateau"
   ]
  },
  {
   "cell_type": "code",
   "execution_count": null,
   "id": "39d787d5",
   "metadata": {},
   "outputs": [],
   "source": [
    "#check images\n",
    "\n",
    "picture_size = 48 #standardize images sizes\n",
    "folder_path = \"/Users/diogocapitao/Documents/DA_Bootcamp/Project/final_project/images/images\""
   ]
  },
  {
   "cell_type": "code",
   "execution_count": null,
   "id": "ce67d333",
   "metadata": {},
   "outputs": [
    {
     "data": {
      "image/png": "[encoded data removed]",
      "text/plain": [
       "<Figure size 1200x1200 with 9 Axes>"
      ]
     },
     "metadata": {},
     "output_type": "display_data"
    }
   ],
   "source": [
    "\n",
    "expression = 'happy'\n",
    "plt.style.use('dark_background')\n",
    "plt.figure(figsize= (12,12)) \n",
    "for i in range(1, 10, 1):\n",
    "    plt.subplot(3,3,i)\n",
    "    img = tf.keras.utils.load_img(folder_path+\"/train/\"+expression+\"/\"+\n",
    "                  os.listdir(folder_path + \"/train/\" + expression)[i], target_size=(picture_size, picture_size))\n",
    "    plt.imshow(img)   \n",
    "plt.show()"
   ]
  },
  {
   "cell_type": "code",
   "execution_count": null,
   "id": "08ad0724",
   "metadata": {},
   "outputs": [
    {
     "name": "stdout",
     "output_type": "stream",
     "text": [
      "Found 28821 images belonging to 7 classes.\n",
      "Found 7066 images belonging to 7 classes.\n"
     ]
    }
   ],
   "source": [
    "#Training and validation data\n",
    "\n",
    "batch_size  = 158 #number that defines how much training examples the model will take\n",
    "\n",
    "datagen_train  = ImageDataGenerator()\n",
    "datagen_val = ImageDataGenerator()\n",
    "\n",
    "train_set = datagen_train.flow_from_directory(folder_path+\"/train\",\n",
    "                                              target_size = (picture_size,picture_size), \n",
    "                                              color_mode = \"grayscale\",\n",
    "                                              batch_size=batch_size,\n",
    "                                              class_mode='categorical',\n",
    "                                              shuffle=True)\n",
    "\n",
    "\n",
    "test_set = datagen_val.flow_from_directory(folder_path+\"/validation\",\n",
    "                                              target_size = (picture_size,picture_size),\n",
    "                                              color_mode = \"grayscale\",\n",
    "                                              batch_size=batch_size,\n",
    "                                              class_mode='categorical',\n",
    "                                              shuffle=False)"
   ]
  },
  {
   "cell_type": "code",
   "execution_count": null,
   "id": "52dc7975",
   "metadata": {},
   "outputs": [
    {
     "name": "stdout",
     "output_type": "stream",
     "text": [
      "Number of images in /Users/diogocapitao/Documents/DA_Bootcamp/Project/final_project/images/images/train/angry: 3993\n",
      "Number of images in /Users/diogocapitao/Documents/DA_Bootcamp/Project/final_project/images/images/train/disgust: 436\n",
      "Number of images in /Users/diogocapitao/Documents/DA_Bootcamp/Project/final_project/images/images/train/fear: 4103\n",
      "Number of images in /Users/diogocapitao/Documents/DA_Bootcamp/Project/final_project/images/images/train/happy: 7164\n",
      "Number of images in /Users/diogocapitao/Documents/DA_Bootcamp/Project/final_project/images/images/train/neutral: 4982\n",
      "Number of images in /Users/diogocapitao/Documents/DA_Bootcamp/Project/final_project/images/images/train/sad: 4938\n",
      "Number of images in /Users/diogocapitao/Documents/DA_Bootcamp/Project/final_project/images/images/train/surprise: 3205\n"
     ]
    }
   ],
   "source": [
    "#Check number of images :: Training\n",
    "training_set = 0\n",
    "emotions = ['angry', 'disgust', 'fear', 'happy', 'neutral', 'sad', 'surprise']\n",
    "image_extensions = ['.jpg', '.jpeg', '.png', '.gif']\n",
    "folder_path = \"/Users/diogocapitao/Documents/DA_Bootcamp/Project/final_project/images/images/train/\"\n",
    "\n",
    "for emotion in emotions:\n",
    "    emotion_folder_path = os.path.join(folder_path, emotion)\n",
    "    file_list = os.listdir(emotion_folder_path)\n",
    "    image_files = [file for file in file_list if os.path.splitext(file)[1] in image_extensions]\n",
    "    num_images = len(image_files)\n",
    "    training_set += num_images\n",
    "    print(f\"Number of images in {emotion_folder_path}: {num_images}\")\n"
   ]
  },
  {
   "cell_type": "code",
   "execution_count": null,
   "id": "a8a08d2e",
   "metadata": {},
   "outputs": [
    {
     "data": {
      "text/plain": [
       "28821"
      ]
     },
     "execution_count": 51,
     "metadata": {},
     "output_type": "execute_result"
    }
   ],
   "source": [
    "training_set # total of training images"
   ]
  },
  {
   "cell_type": "code",
   "execution_count": null,
   "id": "cfbdb4e1",
   "metadata": {},
   "outputs": [
    {
     "name": "stdout",
     "output_type": "stream",
     "text": [
      "Number of images in /Users/diogocapitao/Documents/DA_Bootcamp/Project/final_project/images/images/validation/angry: 960\n",
      "Number of images in /Users/diogocapitao/Documents/DA_Bootcamp/Project/final_project/images/images/validation/disgust: 111\n",
      "Number of images in /Users/diogocapitao/Documents/DA_Bootcamp/Project/final_project/images/images/validation/fear: 1018\n",
      "Number of images in /Users/diogocapitao/Documents/DA_Bootcamp/Project/final_project/images/images/validation/happy: 1825\n",
      "Number of images in /Users/diogocapitao/Documents/DA_Bootcamp/Project/final_project/images/images/validation/neutral: 1216\n",
      "Number of images in /Users/diogocapitao/Documents/DA_Bootcamp/Project/final_project/images/images/validation/sad: 1139\n",
      "Number of images in /Users/diogocapitao/Documents/DA_Bootcamp/Project/final_project/images/images/validation/surprise: 797\n"
     ]
    }
   ],
   "source": [
    "#Check number of images :: Validation\n",
    "validation_set = 0\n",
    "emotions = ['angry', 'disgust', 'fear', 'happy', 'neutral', 'sad', 'surprise']\n",
    "image_extensions = ['.jpg', '.jpeg', '.png', '.gif']\n",
    "folder_path = \"/Users/diogocapitao/Documents/DA_Bootcamp/Project/final_project/images/images/validation/\"\n",
    "\n",
    "for emotion in emotions:\n",
    "    emotion_folder_path = os.path.join(folder_path, emotion)\n",
    "    file_list = os.listdir(emotion_folder_path)\n",
    "    image_files = [file for file in file_list if os.path.splitext(file)[1] in image_extensions]\n",
    "    num_images = len(image_files)\n",
    "    validation_set += num_images\n",
    "    print(f\"Number of images in {emotion_folder_path}: {num_images}\")\n"
   ]
  },
  {
   "cell_type": "code",
   "execution_count": null,
   "id": "d31d6e92",
   "metadata": {},
   "outputs": [
    {
     "data": {
      "text/plain": [
       "7066"
      ]
     },
     "execution_count": 53,
     "metadata": {},
     "output_type": "execute_result"
    }
   ],
   "source": [
    "validation_set # total of validation images"
   ]
  },
  {
   "cell_type": "code",
   "execution_count": null,
   "id": "bcde42d0",
   "metadata": {},
   "outputs": [],
   "source": [
    "#applying model\n",
    "\n",
    "no_of_classes = 7 #possible emotions\n",
    "\n",
    "model = Sequential() \n",
    "\n",
    "#1st CNN layer\n",
    "model.add(Conv2D(64,(3,3),padding = 'same',input_shape = (48,48,1))) #64 is the number of filters, 48X48 is image size\n",
    "model.add(BatchNormalization())\n",
    "model.add(Activation('relu'))\n",
    "model.add(MaxPooling2D(pool_size = (2,2)))\n",
    "model.add(Dropout(0.25))\n",
    "\n",
    "#2nd CNN layer\n",
    "model.add(Conv2D(128,(5,5),padding = 'same'))\n",
    "model.add(BatchNormalization())\n",
    "model.add(Activation('relu'))\n",
    "model.add(MaxPooling2D(pool_size = (2,2)))\n",
    "model.add(Dropout (0.25))\n",
    "\n",
    "#3rd CNN layer\n",
    "model.add(Conv2D(512,(3,3),padding = 'same'))\n",
    "model.add(BatchNormalization())\n",
    "model.add(Activation('relu'))\n",
    "model.add(MaxPooling2D(pool_size = (2,2)))\n",
    "model.add(Dropout (0.25))\n",
    "\n",
    "#4th CNN layer\n",
    "model.add(Conv2D(512,(3,3), padding='same'))\n",
    "model.add(BatchNormalization())\n",
    "model.add(Activation('relu'))\n",
    "model.add(MaxPooling2D(pool_size=(2, 2)))\n",
    "model.add(Dropout(0.25))\n",
    "\n",
    "model.add(Flatten())\n",
    "\n",
    "#Fully connected 1st layer\n",
    "model.add(Dense(256))\n",
    "model.add(BatchNormalization())\n",
    "model.add(Activation('relu'))\n",
    "model.add(Dropout(0.25))\n",
    "\n",
    "# Fully connected layer 2nd layer\n",
    "model.add(Dense(512))\n",
    "model.add(BatchNormalization())\n",
    "model.add(Activation('relu'))\n",
    "model.add(Dropout(0.25))\n",
    "\n",
    "model.add(Dense(no_of_classes, activation='softmax'))\n",
    "\n",
    "\n",
    "\n",
    "opt = Adam(lr = 0.0001)\n",
    "model.compile(optimizer=opt,loss='categorical_crossentropy', metrics=['accuracy'])\n"
   ]
  },
  {
   "cell_type": "code",
   "execution_count": null,
   "id": "0d17036c",
   "metadata": {},
   "outputs": [],
   "source": [
    "#Fitting the model \n",
    "checkpoint = ModelCheckpoint(\"./model.h5\", monitor='val_acc', verbose=1, save_best_only=True, mode='max') #to save the model\n",
    "\n",
    "early_stopping = EarlyStopping(monitor='val_loss',\n",
    "                          min_delta=0,\n",
    "                          patience=3,\n",
    "                          verbose=1,\n",
    "                          restore_best_weights=True\n",
    "                          )\n",
    "\n",
    "reduce_learningrate = ReduceLROnPlateau(monitor='val_loss',\n",
    "                              factor=0.2,\n",
    "                              patience=3,\n",
    "                              verbose=1,\n",
    "                              min_delta=0.0001)\n",
    "\n",
    "callbacks_list = [early_stopping,checkpoint,reduce_learningrate]\n",
    "\n",
    "epochs = 48\n",
    "\n",
    "model.compile(loss='categorical_crossentropy',\n",
    "              optimizer = Adam(lr=0.001),\n",
    "              metrics=['accuracy'])\n"
   ]
  },
  {
   "cell_type": "code",
   "execution_count": null,
   "id": "a079f96e",
   "metadata": {},
   "outputs": [
    {
     "name": "stderr",
     "output_type": "stream",
     "text": [
      "/var/folders/tj/3p22v50d6ns8hpw1fn28jhmr0000gn/T/ipykernel_14630/3853974908.py:1: UserWarning: `Model.fit_generator` is deprecated and will be removed in a future version. Please use `Model.fit`, which supports generators.\n",
      "  history = model.fit_generator(generator=train_set,\n"
     ]
    },
    {
     "name": "stdout",
     "output_type": "stream",
     "text": [
      "Epoch 1/48\n",
      "182/182 [==============================] - ETA: 0s - loss: 1.8041 - accuracy: 0.3048WARNING:tensorflow:Can save best model only with val_acc available, skipping.\n",
      "182/182 [==============================] - 556s 3s/step - loss: 1.8041 - accuracy: 0.3048 - val_loss: 1.7928 - val_accuracy: 0.3031 - lr: 0.0010\n",
      "Epoch 2/48\n",
      "182/182 [==============================] - ETA: 0s - loss: 1.4603 - accuracy: 0.4403WARNING:tensorflow:Can save best model only with val_acc available, skipping.\n",
      "182/182 [==============================] - 510s 3s/step - loss: 1.4603 - accuracy: 0.4403 - val_loss: 1.5489 - val_accuracy: 0.4173 - lr: 0.0010\n",
      "Epoch 3/48\n",
      "182/182 [==============================] - ETA: 0s - loss: 1.2932 - accuracy: 0.5035WARNING:tensorflow:Can save best model only with val_acc available, skipping.\n",
      "182/182 [==============================] - 668s 4s/step - loss: 1.2932 - accuracy: 0.5035 - val_loss: 1.3087 - val_accuracy: 0.4970 - lr: 0.0010\n",
      "Epoch 4/48\n",
      "182/182 [==============================] - ETA: 0s - loss: 1.1998 - accuracy: 0.5422WARNING:tensorflow:Can save best model only with val_acc available, skipping.\n",
      "182/182 [==============================] - 606s 3s/step - loss: 1.1998 - accuracy: 0.5422 - val_loss: 1.3717 - val_accuracy: 0.4789 - lr: 0.0010\n",
      "Epoch 5/48\n",
      "182/182 [==============================] - ETA: 0s - loss: 1.1423 - accuracy: 0.5632WARNING:tensorflow:Can save best model only with val_acc available, skipping.\n",
      "182/182 [==============================] - 563s 3s/step - loss: 1.1423 - accuracy: 0.5632 - val_loss: 1.1641 - val_accuracy: 0.5547 - lr: 0.0010\n",
      "Epoch 6/48\n",
      "182/182 [==============================] - ETA: 0s - loss: 1.0810 - accuracy: 0.5883WARNING:tensorflow:Can save best model only with val_acc available, skipping.\n",
      "182/182 [==============================] - 642s 4s/step - loss: 1.0810 - accuracy: 0.5883 - val_loss: 1.1401 - val_accuracy: 0.5692 - lr: 0.0010\n",
      "Epoch 7/48\n",
      "182/182 [==============================] - ETA: 0s - loss: 1.0366 - accuracy: 0.6074WARNING:tensorflow:Can save best model only with val_acc available, skipping.\n",
      "182/182 [==============================] - 597s 3s/step - loss: 1.0366 - accuracy: 0.6074 - val_loss: 1.1677 - val_accuracy: 0.5537 - lr: 0.0010\n",
      "Epoch 8/48\n",
      "182/182 [==============================] - ETA: 0s - loss: 0.9940 - accuracy: 0.6243WARNING:tensorflow:Can save best model only with val_acc available, skipping.\n",
      "182/182 [==============================] - 1196s 7s/step - loss: 0.9940 - accuracy: 0.6243 - val_loss: 1.1328 - val_accuracy: 0.5735 - lr: 0.0010\n",
      "Epoch 9/48\n",
      "182/182 [==============================] - ETA: 0s - loss: 0.9515 - accuracy: 0.6421WARNING:tensorflow:Can save best model only with val_acc available, skipping.\n",
      "182/182 [==============================] - 581s 3s/step - loss: 0.9515 - accuracy: 0.6421 - val_loss: 1.1046 - val_accuracy: 0.5869 - lr: 0.0010\n",
      "Epoch 10/48\n",
      "182/182 [==============================] - ETA: 0s - loss: 0.9074 - accuracy: 0.6551WARNING:tensorflow:Can save best model only with val_acc available, skipping.\n",
      "182/182 [==============================] - 570s 3s/step - loss: 0.9074 - accuracy: 0.6551 - val_loss: 1.1616 - val_accuracy: 0.5678 - lr: 0.0010\n",
      "Epoch 11/48\n",
      "182/182 [==============================] - ETA: 0s - loss: 0.8761 - accuracy: 0.6708WARNING:tensorflow:Can save best model only with val_acc available, skipping.\n",
      "182/182 [==============================] - 686s 4s/step - loss: 0.8761 - accuracy: 0.6708 - val_loss: 1.1415 - val_accuracy: 0.5820 - lr: 0.0010\n",
      "Epoch 12/48\n",
      "182/182 [==============================] - ETA: 0s - loss: 0.8329 - accuracy: 0.6909Restoring model weights from the end of the best epoch: 9.\n",
      "WARNING:tensorflow:Can save best model only with val_acc available, skipping.\n",
      "\n",
      "Epoch 12: ReduceLROnPlateau reducing learning rate to 0.00020000000949949026.\n",
      "182/182 [==============================] - 607s 3s/step - loss: 0.8329 - accuracy: 0.6909 - val_loss: 1.1351 - val_accuracy: 0.5945 - lr: 0.0010\n",
      "Epoch 12: early stopping\n"
     ]
    }
   ],
   "source": [
    "history = model.fit_generator(generator=train_set,\n",
    "                                steps_per_epoch=train_set.n//train_set.batch_size,\n",
    "                                epochs=epochs, #number of times the entire training dataset will be iterated during the training process\n",
    "                                validation_data = test_set,\n",
    "                                validation_steps = test_set.n//test_set.batch_size,\n",
    "                                callbacks=callbacks_list\n",
    "                                )"
   ]
  },
  {
   "cell_type": "code",
   "execution_count": null,
   "id": "891a3878",
   "metadata": {},
   "outputs": [
    {
     "name": "stdout",
     "output_type": "stream",
     "text": [
      "Final Training Accuracy: 0.6908558011054993\n",
      "Final Validation Accuracy: 0.5945051908493042\n"
     ]
    }
   ],
   "source": [
    "print(\"Final Training Accuracy:\", history.history['accuracy'][-1])\n",
    "print(\"Final Validation Accuracy:\", history.history['val_accuracy'][-1])\n"
   ]
  },
  {
   "cell_type": "code",
   "execution_count": 25,
   "id": "71cd220c",
   "metadata": {},
   "outputs": [
    {
     "data": {
      "text/html": [
       "<div>\n",
       "<style scoped>\n",
       "    .dataframe tbody tr th:only-of-type {\n",
       "        vertical-align: middle;\n",
       "    }\n",
       "\n",
       "    .dataframe tbody tr th {\n",
       "        vertical-align: top;\n",
       "    }\n",
       "\n",
       "    .dataframe thead th {\n",
       "        text-align: right;\n",
       "    }\n",
       "</style>\n",
       "<table border=\"1\" class=\"dataframe\">\n",
       "  <thead>\n",
       "    <tr style=\"text-align: right;\">\n",
       "      <th></th>\n",
       "      <th>Name</th>\n",
       "      <th>Artist</th>\n",
       "      <th>Mood</th>\n",
       "    </tr>\n",
       "  </thead>\n",
       "  <tbody>\n",
       "    <tr>\n",
       "      <th>0</th>\n",
       "      <td>Sick Thoughts</td>\n",
       "      <td>Lewis Blissett</td>\n",
       "      <td>Angry</td>\n",
       "    </tr>\n",
       "    <tr>\n",
       "      <th>1</th>\n",
       "      <td>Mo Bamba</td>\n",
       "      <td>Sheck Wes</td>\n",
       "      <td>Angry</td>\n",
       "    </tr>\n",
       "    <tr>\n",
       "      <th>2</th>\n",
       "      <td>MONTERO (Call Me By Your Name)</td>\n",
       "      <td>Lil Nas X</td>\n",
       "      <td>Angry</td>\n",
       "    </tr>\n",
       "    <tr>\n",
       "      <th>3</th>\n",
       "      <td>Foot Fungus</td>\n",
       "      <td>Ski Mask The Slump God</td>\n",
       "      <td>Angry</td>\n",
       "    </tr>\n",
       "    <tr>\n",
       "      <th>4</th>\n",
       "      <td>Shhh (Pew Pew) - Slowed + Reverb</td>\n",
       "      <td>Young Fanatic</td>\n",
       "      <td>Angry</td>\n",
       "    </tr>\n",
       "    <tr>\n",
       "      <th>...</th>\n",
       "      <td>...</td>\n",
       "      <td>...</td>\n",
       "      <td>...</td>\n",
       "    </tr>\n",
       "    <tr>\n",
       "      <th>485</th>\n",
       "      <td>enough for you</td>\n",
       "      <td>Olivia Rodrigo</td>\n",
       "      <td>Surprised</td>\n",
       "    </tr>\n",
       "    <tr>\n",
       "      <th>486</th>\n",
       "      <td>Botella Tras Botella</td>\n",
       "      <td>Gera MX</td>\n",
       "      <td>Surprised</td>\n",
       "    </tr>\n",
       "    <tr>\n",
       "      <th>487</th>\n",
       "      <td>EL MAKINON</td>\n",
       "      <td>KAROL G</td>\n",
       "      <td>Surprised</td>\n",
       "    </tr>\n",
       "    <tr>\n",
       "      <th>488</th>\n",
       "      <td>Lost Cause</td>\n",
       "      <td>Billie Eilish</td>\n",
       "      <td>Surprised</td>\n",
       "    </tr>\n",
       "    <tr>\n",
       "      <th>489</th>\n",
       "      <td>Miénteme</td>\n",
       "      <td>TINI</td>\n",
       "      <td>Surprised</td>\n",
       "    </tr>\n",
       "  </tbody>\n",
       "</table>\n",
       "<p>490 rows × 3 columns</p>\n",
       "</div>"
      ],
      "text/plain": [
       "                                 Name                  Artist       Mood\n",
       "0                       Sick Thoughts          Lewis Blissett      Angry\n",
       "1                            Mo Bamba               Sheck Wes      Angry\n",
       "2      MONTERO (Call Me By Your Name)               Lil Nas X      Angry\n",
       "3                         Foot Fungus  Ski Mask The Slump God      Angry\n",
       "4    Shhh (Pew Pew) - Slowed + Reverb           Young Fanatic      Angry\n",
       "..                                ...                     ...        ...\n",
       "485                    enough for you          Olivia Rodrigo  Surprised\n",
       "486              Botella Tras Botella                 Gera MX  Surprised\n",
       "487                        EL MAKINON                 KAROL G  Surprised\n",
       "488                        Lost Cause           Billie Eilish  Surprised\n",
       "489                          Miénteme                    TINI  Surprised\n",
       "\n",
       "[490 rows x 3 columns]"
      ]
     },
     "execution_count": 25,
     "metadata": {},
     "output_type": "execute_result"
    }
   ],
   "source": [
    "# ADDING THE SONGS\n",
    "songs_raw"
   ]
  },
  {
   "cell_type": "code",
   "execution_count": 38,
   "id": "2ad64753",
   "metadata": {},
   "outputs": [],
   "source": [
    "#data cleaning \n",
    "\n",
    "songs_raw['Mood'] = songs_raw['Mood'].replace('Fearful', 'Fear') # to be possible to match with the face recognition set\n",
    "songs_raw['Mood'] = songs_raw['Mood'].replace('Surprised', 'Surprise')\n",
    "songs_raw.rename(columns={'Name': 'Track'}, inplace=True)\n",
    "\n",
    "songs_raw.to_csv('cleaned_songs.csv', index=False)\n",
    "\n",
    "songs = songs_raw\n"
   ]
  },
  {
   "cell_type": "code",
   "execution_count": 39,
   "id": "77b728ba",
   "metadata": {},
   "outputs": [],
   "source": [
    "# path for the folder with the pictures\n",
    "folder_path = '/Users/diogocapitao/Documents/DA_Bootcamp/Project/final_project/pictures'\n",
    "\n",
    "# Get the list of files in the folder\n",
    "files = os.listdir(folder_path)\n",
    "\n",
    "# Sorting the files by their modified time in descending order\n",
    "sorted_files = sorted(files, key=lambda x: os.path.getmtime(os.path.join(folder_path, x)), reverse=True)\n"
   ]
  },
  {
   "cell_type": "code",
   "execution_count": 40,
   "id": "51ef5e48",
   "metadata": {},
   "outputs": [],
   "source": [
    "last_file = sorted_files[0]\n",
    "match = re.search(r'^(.*?)---', last_file)\n",
    "emotion = match.group(1).lower()"
   ]
  },
  {
   "cell_type": "code",
   "execution_count": 41,
   "id": "c790a1c8",
   "metadata": {},
   "outputs": [
    {
     "data": {
      "text/plain": [
       "'happy'"
      ]
     },
     "execution_count": 41,
     "metadata": {},
     "output_type": "execute_result"
    }
   ],
   "source": [
    "emotion"
   ]
  },
  {
   "cell_type": "code",
   "execution_count": 42,
   "id": "0d3b04f5",
   "metadata": {},
   "outputs": [],
   "source": [
    "#creating a function to return songs per mood (capured on the pictures)\n",
    "\n",
    "def moody_tunes(folder_path, emotion, songs):\n",
    "    # Get the list of files in the folder\n",
    "    files = os.listdir(folder_path)\n",
    "\n",
    "    # Sorting the files by their modified time in descending order\n",
    "    sorted_files = sorted(files, key=lambda x: os.path.getmtime(os.path.join(folder_path, x)), reverse=True)\n",
    "\n",
    "    if sorted_files:\n",
    "        last_file = sorted_files[0]\n",
    "        # Extract the emotion from the last added file name\n",
    "        match = re.search(r'^(.*?)---', last_file)\n",
    "        if match:\n",
    "            emotion = match.group(1).lower()\n",
    "            print(f\"For your {emotion} mood, your tunes are:\")\n",
    "            # Filter songs by mood/emotion\n",
    "            emotion_songs = songs[songs['Mood'] == emotion]\n",
    "            # Randomly select 7 songs\n",
    "            random_songs = emotion_songs.sample(n=7)\n",
    "            # Print the songs\n",
    "            print(random_songs[['Track', 'Artist']].to_string(index=False))\n",
    "        else:\n",
    "            print(\"Try again, folks!\")"
   ]
  },
  {
   "cell_type": "code",
   "execution_count": 43,
   "id": "8bf9dae9",
   "metadata": {},
   "outputs": [
    {
     "name": "stdout",
     "output_type": "stream",
     "text": [
      "For your happy mood, your tunes are:\n",
      "                        Track            Artist\n",
      "                    All of Me       John Legend\n",
      "         Just the Way You Are        Bruno Mars\n",
      "      Adventure of a Lifetime          Coldplay\n",
      "Ice Cream (with Selena Gomez)         BLACKPINK\n",
      "                Waves of Blue      Majid Jordan\n",
      "         Locked out of Heaven        Bruno Mars\n",
      "              Sweater Weather The Neighbourhood\n"
     ]
    }
   ],
   "source": [
    "moody_tunes(folder_path, emotion, songs)"
   ]
  }
 ],
 "metadata": {
  "kernelspec": {
   "display_name": "base",
   "language": "python",
   "name": "python3"
  },
  "language_info": {
   "codemirror_mode": {
    "name": "ipython",
    "version": 3
   },
   "file_extension": ".py",
   "mimetype": "text/x-python",
   "name": "python",
   "nbconvert_exporter": "python",
   "pygments_lexer": "ipython3",
   "version": "3.9.16 (main, Mar  8 2023, 04:29:44) \n[Clang 14.0.6 ]"
  },
  "vscode": {
   "interpreter": {
    "hash": "a1ddc6875ae1430f8c49761b85592afbb13ba956f86f4eaec43b74f4fae40da1"
   }
  }
 },
 "nbformat": 4,
 "nbformat_minor": 5
}
